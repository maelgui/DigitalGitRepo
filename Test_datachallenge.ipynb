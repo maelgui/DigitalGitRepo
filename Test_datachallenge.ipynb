{
 "cells": [
  {
   "cell_type": "code",
   "execution_count": 16,
   "metadata": {},
   "outputs": [],
   "source": [
    "import pandas as pd\n",
    "from xgboost import XGBRegressor\n",
    "from sklearn.ensemble import GradientBoostingRegressor\n",
    "from sklearn.model_selection import train_test_split\n",
    "from sklearn.metrics import mean_squared_error\n",
    "from math import sqrt"
   ]
  },
  {
   "cell_type": "code",
   "execution_count": 17,
   "metadata": {},
   "outputs": [],
   "source": [
    "# import data\n",
    "data_sample = pd.read_csv(\"data/train_sample2.csv\")"
   ]
  },
  {
   "cell_type": "code",
   "execution_count": 18,
   "metadata": {},
   "outputs": [],
   "source": [
    "# Change datetime\n",
    "data_sample[\"pickup_datetime\"] = pd.DatetimeIndex(data_sample[\"pickup_datetime\"])"
   ]
  },
  {
   "cell_type": "code",
   "execution_count": 19,
   "metadata": {},
   "outputs": [
    {
     "name": "stdout",
     "output_type": "stream",
     "text": [
      "        pickup_longitude  pickup_latitude  dropoff_longitude  \\\n",
      "0             -73.982178        40.765060         -73.978310   \n",
      "1             -73.956352        40.769759         -73.985643   \n",
      "2             -73.994662        40.750358         -73.991467   \n",
      "3             -73.987130        40.733143         -73.991567   \n",
      "4             -73.947868        40.779554         -74.006704   \n",
      "5             -73.969501        40.760041         -73.998951   \n",
      "6             -73.984140        40.754670         -73.865088   \n",
      "7             -74.431217        41.346233         -73.953667   \n",
      "8             -73.967725        40.771409         -73.983998   \n",
      "9             -73.955731        40.779478         -73.974705   \n",
      "10            -73.958953        40.767867         -73.964362   \n",
      "11            -74.002267        40.724853         -74.000773   \n",
      "12            -73.989639        40.734341         -73.988152   \n",
      "13            -73.992917        40.752082         -73.782372   \n",
      "14            -73.962350        40.779045         -73.970907   \n",
      "15            -73.988670        40.735008         -73.991508   \n",
      "16            -73.999759        40.738761         -73.940913   \n",
      "17            -73.979999        40.765691         -73.992824   \n",
      "18            -73.964960        40.759662         -73.971970   \n",
      "19            -73.998653        40.734885         -73.986525   \n",
      "20            -73.975220        40.752712         -73.957380   \n",
      "21            -73.991428        40.750486         -74.007959   \n",
      "22            -73.984686        40.728548         -73.976877   \n",
      "23            -73.984879        40.748127         -73.980560   \n",
      "24            -73.958920        40.781525         -73.975860   \n",
      "25            -73.955352        40.779437         -73.985397   \n",
      "26            -74.007384        40.740992         -73.952597   \n",
      "27            -74.007301        40.727515         -74.013900   \n",
      "28            -73.989337        40.734317         -74.001755   \n",
      "29            -73.969713        40.789600         -73.966933   \n",
      "...                  ...              ...                ...   \n",
      "999968        -73.990669        40.734825         -73.992035   \n",
      "999969        -73.979453        40.752677         -73.991157   \n",
      "999970        -73.946662        40.772525         -73.951497   \n",
      "999971        -73.991907        40.743813         -73.980027   \n",
      "999972        -73.986173        40.740392         -73.954010   \n",
      "999973        -73.963682        40.765625         -73.992230   \n",
      "999974        -74.012311        40.712873         -74.009979   \n",
      "999975        -73.984134        40.737661         -74.004975   \n",
      "999976        -73.975162        40.755798         -73.961645   \n",
      "999977        -73.998627        40.740122         -73.994730   \n",
      "999978        -73.991164        40.750044         -73.977242   \n",
      "999979        -73.989112        40.743620         -73.995695   \n",
      "999980        -74.005645        40.733937         -73.992153   \n",
      "999981        -73.990233        40.750698         -73.974223   \n",
      "999982        -73.981675        40.776132         -73.986207   \n",
      "999984        -73.959413        40.771918         -74.005728   \n",
      "999985        -73.994156        40.751163         -73.974564   \n",
      "999986        -73.975379        40.790057         -73.981347   \n",
      "999987        -73.998253        40.741180         -73.986595   \n",
      "999988        -73.993597        40.735907         -74.002160   \n",
      "999989        -73.982227        40.775202         -73.992232   \n",
      "999990        -73.957074        40.783036         -73.945744   \n",
      "999991        -73.978493        40.753307         -73.978414   \n",
      "999992        -73.973356        40.760984         -73.960728   \n",
      "999993        -73.973833        40.764255         -73.978206   \n",
      "999994        -73.956358        40.767205         -73.986206   \n",
      "999995        -73.996558        40.725347         -73.981192   \n",
      "999996        -73.995898        40.744324         -73.995212   \n",
      "999998        -73.983813        40.760853         -73.998145   \n",
      "999999        -73.985111        40.768671         -73.988548   \n",
      "\n",
      "        dropoff_latitude  year  hour  month  distances(km)  \n",
      "0              40.777363  2015    19      3       0.001405  \n",
      "1              40.755751  2009     9      1       0.002922  \n",
      "2              40.759927  2011    11     12       0.001096  \n",
      "3              40.758092  2012     4      4       0.002796  \n",
      "4              40.739608  2009    20      9       0.006660  \n",
      "5              40.724821  2011    12      2       0.004635  \n",
      "6              40.770528  2010    14      8       0.010205  \n",
      "7              40.784777  2012    17      5       0.074155  \n",
      "8              40.764245  2012    16      1       0.001588  \n",
      "9              40.761604  2011    14     12       0.002551  \n",
      "10             40.761107  2010    17      9       0.000879  \n",
      "11             40.723987  2009    22      2       0.000159  \n",
      "12             40.737679  2015    11      4       0.000391  \n",
      "13             40.648747  2013    13      8       0.021173  \n",
      "14             40.748520  2010    14     11       0.003466  \n",
      "15             40.744975  2010    21     11       0.001132  \n",
      "16             40.800048  2013     0     12       0.008426  \n",
      "17             40.752106  2009    21      8       0.001857  \n",
      "18             40.761877  2014    16      6       0.000641  \n",
      "19             40.760127  2014    15      4       0.002984  \n",
      "20             40.766045  2014     6      7       0.002112  \n",
      "21             40.709685  2011     7      8       0.004741  \n",
      "22             40.687029  2009     3      9       0.004658  \n",
      "23             40.740284  2015    13      3       0.000944  \n",
      "24             40.788035  2011    19      3       0.001602  \n",
      "25             40.778540  2014    17      5       0.002538  \n",
      "26             40.780682  2010     0     10       0.006390  \n",
      "27             40.702381  2013    13      3       0.002846  \n",
      "28             40.739482  2013    16     11       0.001196  \n",
      "29             40.795468  2009    13      8       0.000693  \n",
      "...                  ...   ...   ...    ...            ...  \n",
      "999968         40.748947  2015     9      3       0.001572  \n",
      "999969         40.745357  2014    17      9       0.001280  \n",
      "999970         40.777800  2013    14      3       0.000714  \n",
      "999971         40.752633  2011    10      7       0.001402  \n",
      "999972         40.770452  2014     0      5       0.004303  \n",
      "999973         40.750973  2010    15      4       0.002908  \n",
      "999974         40.721280  2011    20      2       0.000954  \n",
      "999975         40.746503  2010    10      5       0.002016  \n",
      "999976         40.774052  2009    15      4       0.002326  \n",
      "999977         40.718855  2014    18      1       0.002385  \n",
      "999978         40.754523  2011    19      3       0.001277  \n",
      "999979         40.733222  2014    20      1       0.001282  \n",
      "999980         40.680057  2014    20      1       0.006091  \n",
      "999981         40.744008  2010    21      6       0.001543  \n",
      "999982         40.764002  2012    19      1       0.001400  \n",
      "999984         40.706713  2010    10     12       0.008230  \n",
      "999985         40.737450  2015    12      1       0.002249  \n",
      "999986         40.780624  2009     9      9       0.001162  \n",
      "999987         40.761742  2015    23      3       0.002487  \n",
      "999988         40.738248  2012    19      1       0.000769  \n",
      "999989         40.767255  2013     3     12       0.001222  \n",
      "999990         40.773838  2012    20      4       0.001399  \n",
      "999991         40.761646  2009    10      6       0.000926  \n",
      "999992         40.766387  2012    12      4       0.001223  \n",
      "999993         40.743724  2010    15      6       0.002310  \n",
      "999994         40.740692  2010     9      5       0.003876  \n",
      "999995         40.741613  2011    12     11       0.002224  \n",
      "999996         40.749678  2013    19      8       0.000597  \n",
      "999998         40.735308  2010    20      4       0.003084  \n",
      "999999         40.761678  2010    15      4       0.000829  \n",
      "\n",
      "[980140 rows x 8 columns]\n"
     ]
    }
   ],
   "source": [
    "from keras.utils.np_utils import to_categorical\n",
    "import geopy\n",
    "from geopy import distance\n",
    "\n",
    "data_sample.dropna()\n",
    "data_sample = data_sample[(data_sample['pickup_latitude'] <=90)\n",
    "            & (data_sample['pickup_latitude'] >=-90)\n",
    "            & (data_sample['pickup_longitude'] <=90)\n",
    "            & (data_sample['pickup_longitude'] >=-90)\n",
    "            & (data_sample['dropoff_latitude'] <=90)\n",
    "            & (data_sample['dropoff_latitude'] >=-90)\n",
    "            & (data_sample['dropoff_longitude'] <=90)\n",
    "            & (data_sample['dropoff_longitude'] >=-90)\n",
    "            & (data_sample['dropoff_longitude'] !=0)\n",
    "            & (data_sample['dropoff_latitude'] !=0)\n",
    "            & (data_sample['pickup_longitude'] !=0)\n",
    "            & (data_sample['pickup_latitude'] !=0)\n",
    "            & (data_sample['fare_amount']>0)]\n",
    "\n",
    "coordonnes_geo = data_sample.values[:,3:7]\n",
    "\n",
    "def dist(row):\n",
    "    coords_1 = (row[1],row[0])\n",
    "    coords_2 = (row[3],row[2])\n",
    "    return geopy.distance.distance(coords_1,coords_2).km\n",
    "\n",
    "distances  = []\n",
    "\n",
    "for trajet in coordonnes_geo:\n",
    "    distance_trajet = dist(trajet)/1000\n",
    "    distances.append(distance_trajet)\n",
    "\n",
    "X = data_sample.iloc[:, 3:]\n",
    "X = X.drop(columns = \"passenger_count\")\n",
    "X['year'] = data_sample[\"pickup_datetime\"].dt.year\n",
    "#X['day_of_week'] = data_sample[\"pickup_datetime\"].dt.dayofweek\n",
    "X['hour'] = data_sample[\"pickup_datetime\"].dt.hour\n",
    "X['month'] = data_sample[\"pickup_datetime\"].dt.month\n",
    "X[\"distances(km)\"] = distances\n",
    "print(X)\n",
    "\n",
    "Y = data_sample.iloc[:, 1]"
   ]
  },
  {
   "cell_type": "code",
   "execution_count": 20,
   "metadata": {},
   "outputs": [],
   "source": [
    "X_train, X_test, Y_train, Y_test = train_test_split(X, Y, test_size=0.2)"
   ]
  },
  {
   "cell_type": "code",
   "execution_count": 45,
   "metadata": {},
   "outputs": [],
   "source": [
    "X_train = X\n",
    "Y_train = Y"
   ]
  },
  {
   "cell_type": "code",
   "execution_count": 55,
   "metadata": {},
   "outputs": [
    {
     "data": {
      "text/plain": [
       "GradientBoostingRegressor(alpha=0.9, criterion='friedman_mse', init=None,\n",
       "                          learning_rate=0.05, loss='ls', max_depth=8,\n",
       "                          max_features=None, max_leaf_nodes=None,\n",
       "                          min_impurity_decrease=0.0, min_impurity_split=None,\n",
       "                          min_samples_leaf=1, min_samples_split=4,\n",
       "                          min_weight_fraction_leaf=0.0, n_estimators=1000,\n",
       "                          n_iter_no_change=None, presort='auto',\n",
       "                          random_state=None, subsample=1.0, tol=0.0001,\n",
       "                          validation_fraction=0.1, verbose=0, warm_start=False)"
      ]
     },
     "execution_count": 55,
     "metadata": {},
     "output_type": "execute_result"
    }
   ],
   "source": [
    "GBM = GradientBoostingRegressor(n_estimators=1000,\n",
    "                                         max_depth=8,\n",
    "                                         min_samples_split= 4,\n",
    "                                         learning_rate=0.05,\n",
    "                                         loss='ls')\n",
    "GBM.fit(X_train, Y_train)\n",
    "y_pred = GBM.predict(X_test)\n",
    "GBM"
   ]
  },
  {
   "cell_type": "code",
   "execution_count": 58,
   "metadata": {},
   "outputs": [
    {
     "data": {
      "text/plain": [
       "DecisionTreeRegressor(criterion='mse', max_depth=None, max_features=None,\n",
       "                      max_leaf_nodes=None, min_impurity_decrease=0.0,\n",
       "                      min_impurity_split=None, min_samples_leaf=1,\n",
       "                      min_samples_split=2, min_weight_fraction_leaf=0.0,\n",
       "                      presort=False, random_state=None, splitter='best')"
      ]
     },
     "execution_count": 58,
     "metadata": {},
     "output_type": "execute_result"
    }
   ],
   "source": [
    "from sklearn import tree\n",
    "\n",
    "DTR = tree.DecisionTreeRegressor()\n",
    "DTR.fit(X_train, Y_train)\n",
    "y_pred = DTR.predict(X_test)\n",
    "DTR"
   ]
  },
  {
   "cell_type": "code",
   "execution_count": 56,
   "metadata": {},
   "outputs": [
    {
     "name": "stdout",
     "output_type": "stream",
     "text": [
      "0.7379016557220651\n",
      "25.866760750320278\n"
     ]
    }
   ],
   "source": [
    "print(GBM.score(X_test, Y_test))\n",
    "mse = mean_squared_error(Y_test, GBM.predict(X_test))\n",
    "print(mse)"
   ]
  },
  {
   "cell_type": "code",
   "execution_count": 59,
   "metadata": {},
   "outputs": [
    {
     "name": "stdout",
     "output_type": "stream",
     "text": [
      "0.5462614031553155\n",
      "44.77993846203612\n"
     ]
    }
   ],
   "source": [
    "print(DTR.score(X_test, Y_test))\n",
    "mse = mean_squared_error(Y_test, DTR.predict(X_test))\n",
    "print(mse)"
   ]
  },
  {
   "cell_type": "code",
   "execution_count": 57,
   "metadata": {},
   "outputs": [
    {
     "data": {
      "text/plain": [
       "array([0.23994257, 0.13031938, 0.4207653 , 0.14100605, 0.00392697,\n",
       "       0.03272377, 0.00843598, 0.02287998])"
      ]
     },
     "execution_count": 57,
     "metadata": {},
     "output_type": "execute_result"
    }
   ],
   "source": [
    "GBM.feature_importances_"
   ]
  },
  {
   "cell_type": "code",
   "execution_count": 60,
   "metadata": {},
   "outputs": [
    {
     "data": {
      "text/plain": [
       "array([0.23097749, 0.12666182, 0.41921688, 0.13757158, 0.01022826,\n",
       "       0.03158601, 0.01705957, 0.02669838])"
      ]
     },
     "execution_count": 60,
     "metadata": {},
     "output_type": "execute_result"
    }
   ],
   "source": [
    "DTR.feature_importances_"
   ]
  },
  {
   "cell_type": "code",
   "execution_count": 6,
   "metadata": {},
   "outputs": [],
   "source": [
    "from sklearn.ensemble import RandomForestRegressor\n",
    "\n",
    "rf = RandomForestRegressor(n_estimators = 500, n_jobs = 6)"
   ]
  },
  {
   "cell_type": "code",
   "execution_count": 34,
   "metadata": {},
   "outputs": [
    {
     "name": "stderr",
     "output_type": "stream",
     "text": [
      "D:\\ProgramData\\Anaconda3\\lib\\site-packages\\sklearn\\model_selection\\_split.py:1978: FutureWarning: The default value of cv will change from 3 to 5 in version 0.22. Specify it explicitly to silence this warning.\n",
      "  warnings.warn(CV_WARNING, FutureWarning)\n"
     ]
    }
   ],
   "source": [
    "from sklearn.model_selection import GridSearchCV\n",
    "\n",
    "max_features_values = [3,4,5,6]\n",
    "\n",
    "\n",
    "param_grid = {\"max_features\":max_features_values}\n",
    "grid_search = GridSearchCV(rf, param_grid, n_jobs = 6)\n",
    "grid_result = grid_search.fit(X_train, Y_train)"
   ]
  },
  {
   "cell_type": "code",
   "execution_count": 35,
   "metadata": {},
   "outputs": [
    {
     "name": "stdout",
     "output_type": "stream",
     "text": [
      "0.799302 (0.017758) with: {'max_features': 3}\n",
      "0.797806 (0.017609) with: {'max_features': 4}\n",
      "0.795330 (0.016324) with: {'max_features': 5}\n",
      "0.789572 (0.016172) with: {'max_features': 6}\n",
      "{'max_features': 3}\n"
     ]
    }
   ],
   "source": [
    "means = grid_result.cv_results_['mean_test_score']\n",
    "stds = grid_result.cv_results_['std_test_score']\n",
    "params = grid_result.cv_results_['params']\n",
    "for mean, stdev, param in zip(means, stds, params):\n",
    "    print(\"%f (%f) with: %r\" % (mean, stdev, param))\n",
    "    \n",
    "print(grid_result.best_params_)"
   ]
  },
  {
   "cell_type": "code",
   "execution_count": 27,
   "metadata": {},
   "outputs": [
    {
     "ename": "KeyboardInterrupt",
     "evalue": "",
     "output_type": "error",
     "traceback": [
      "\u001b[1;31m---------------------------------------------------------------------------\u001b[0m",
      "\u001b[1;31mKeyboardInterrupt\u001b[0m                         Traceback (most recent call last)",
      "\u001b[1;32m<ipython-input-27-c7fb73abcb30>\u001b[0m in \u001b[0;36m<module>\u001b[1;34m\u001b[0m\n\u001b[0;32m      7\u001b[0m \u001b[0mparam_grid\u001b[0m \u001b[1;33m=\u001b[0m \u001b[1;33m{\u001b[0m\u001b[1;34m\"max_depth\"\u001b[0m\u001b[1;33m:\u001b[0m\u001b[0mmax_depth_values\u001b[0m\u001b[1;33m}\u001b[0m\u001b[1;33m\u001b[0m\u001b[1;33m\u001b[0m\u001b[0m\n\u001b[0;32m      8\u001b[0m \u001b[0mgrid_search\u001b[0m \u001b[1;33m=\u001b[0m \u001b[0mGridSearchCV\u001b[0m\u001b[1;33m(\u001b[0m\u001b[0mrf\u001b[0m\u001b[1;33m,\u001b[0m \u001b[0mparam_grid\u001b[0m\u001b[1;33m,\u001b[0m \u001b[0mn_jobs\u001b[0m \u001b[1;33m=\u001b[0m \u001b[1;36m6\u001b[0m\u001b[1;33m)\u001b[0m\u001b[1;33m\u001b[0m\u001b[1;33m\u001b[0m\u001b[0m\n\u001b[1;32m----> 9\u001b[1;33m \u001b[0mgrid_result\u001b[0m \u001b[1;33m=\u001b[0m \u001b[0mgrid_search\u001b[0m\u001b[1;33m.\u001b[0m\u001b[0mfit\u001b[0m\u001b[1;33m(\u001b[0m\u001b[0mX_train\u001b[0m\u001b[1;33m,\u001b[0m \u001b[0mY_train\u001b[0m\u001b[1;33m)\u001b[0m\u001b[1;33m\u001b[0m\u001b[1;33m\u001b[0m\u001b[0m\n\u001b[0m",
      "\u001b[1;32mD:\\ProgramData\\Anaconda3\\lib\\site-packages\\sklearn\\model_selection\\_search.py\u001b[0m in \u001b[0;36mfit\u001b[1;34m(self, X, y, groups, **fit_params)\u001b[0m\n\u001b[0;32m    685\u001b[0m                 \u001b[1;32mreturn\u001b[0m \u001b[0mresults\u001b[0m\u001b[1;33m\u001b[0m\u001b[1;33m\u001b[0m\u001b[0m\n\u001b[0;32m    686\u001b[0m \u001b[1;33m\u001b[0m\u001b[0m\n\u001b[1;32m--> 687\u001b[1;33m             \u001b[0mself\u001b[0m\u001b[1;33m.\u001b[0m\u001b[0m_run_search\u001b[0m\u001b[1;33m(\u001b[0m\u001b[0mevaluate_candidates\u001b[0m\u001b[1;33m)\u001b[0m\u001b[1;33m\u001b[0m\u001b[1;33m\u001b[0m\u001b[0m\n\u001b[0m\u001b[0;32m    688\u001b[0m \u001b[1;33m\u001b[0m\u001b[0m\n\u001b[0;32m    689\u001b[0m         \u001b[1;31m# For multi-metric evaluation, store the best_index_, best_params_ and\u001b[0m\u001b[1;33m\u001b[0m\u001b[1;33m\u001b[0m\u001b[1;33m\u001b[0m\u001b[0m\n",
      "\u001b[1;32mD:\\ProgramData\\Anaconda3\\lib\\site-packages\\sklearn\\model_selection\\_search.py\u001b[0m in \u001b[0;36m_run_search\u001b[1;34m(self, evaluate_candidates)\u001b[0m\n\u001b[0;32m   1146\u001b[0m     \u001b[1;32mdef\u001b[0m \u001b[0m_run_search\u001b[0m\u001b[1;33m(\u001b[0m\u001b[0mself\u001b[0m\u001b[1;33m,\u001b[0m \u001b[0mevaluate_candidates\u001b[0m\u001b[1;33m)\u001b[0m\u001b[1;33m:\u001b[0m\u001b[1;33m\u001b[0m\u001b[1;33m\u001b[0m\u001b[0m\n\u001b[0;32m   1147\u001b[0m         \u001b[1;34m\"\"\"Search all candidates in param_grid\"\"\"\u001b[0m\u001b[1;33m\u001b[0m\u001b[1;33m\u001b[0m\u001b[0m\n\u001b[1;32m-> 1148\u001b[1;33m         \u001b[0mevaluate_candidates\u001b[0m\u001b[1;33m(\u001b[0m\u001b[0mParameterGrid\u001b[0m\u001b[1;33m(\u001b[0m\u001b[0mself\u001b[0m\u001b[1;33m.\u001b[0m\u001b[0mparam_grid\u001b[0m\u001b[1;33m)\u001b[0m\u001b[1;33m)\u001b[0m\u001b[1;33m\u001b[0m\u001b[1;33m\u001b[0m\u001b[0m\n\u001b[0m\u001b[0;32m   1149\u001b[0m \u001b[1;33m\u001b[0m\u001b[0m\n\u001b[0;32m   1150\u001b[0m \u001b[1;33m\u001b[0m\u001b[0m\n",
      "\u001b[1;32mD:\\ProgramData\\Anaconda3\\lib\\site-packages\\sklearn\\model_selection\\_search.py\u001b[0m in \u001b[0;36mevaluate_candidates\u001b[1;34m(candidate_params)\u001b[0m\n\u001b[0;32m    664\u001b[0m                                \u001b[1;32mfor\u001b[0m \u001b[0mparameters\u001b[0m\u001b[1;33m,\u001b[0m \u001b[1;33m(\u001b[0m\u001b[0mtrain\u001b[0m\u001b[1;33m,\u001b[0m \u001b[0mtest\u001b[0m\u001b[1;33m)\u001b[0m\u001b[1;33m\u001b[0m\u001b[1;33m\u001b[0m\u001b[0m\n\u001b[0;32m    665\u001b[0m                                in product(candidate_params,\n\u001b[1;32m--> 666\u001b[1;33m                                           cv.split(X, y, groups)))\n\u001b[0m\u001b[0;32m    667\u001b[0m \u001b[1;33m\u001b[0m\u001b[0m\n\u001b[0;32m    668\u001b[0m                 \u001b[1;32mif\u001b[0m \u001b[0mlen\u001b[0m\u001b[1;33m(\u001b[0m\u001b[0mout\u001b[0m\u001b[1;33m)\u001b[0m \u001b[1;33m<\u001b[0m \u001b[1;36m1\u001b[0m\u001b[1;33m:\u001b[0m\u001b[1;33m\u001b[0m\u001b[1;33m\u001b[0m\u001b[0m\n",
      "\u001b[1;32mD:\\ProgramData\\Anaconda3\\lib\\site-packages\\joblib\\parallel.py\u001b[0m in \u001b[0;36m__call__\u001b[1;34m(self, iterable)\u001b[0m\n\u001b[0;32m    932\u001b[0m \u001b[1;33m\u001b[0m\u001b[0m\n\u001b[0;32m    933\u001b[0m             \u001b[1;32mwith\u001b[0m \u001b[0mself\u001b[0m\u001b[1;33m.\u001b[0m\u001b[0m_backend\u001b[0m\u001b[1;33m.\u001b[0m\u001b[0mretrieval_context\u001b[0m\u001b[1;33m(\u001b[0m\u001b[1;33m)\u001b[0m\u001b[1;33m:\u001b[0m\u001b[1;33m\u001b[0m\u001b[1;33m\u001b[0m\u001b[0m\n\u001b[1;32m--> 934\u001b[1;33m                 \u001b[0mself\u001b[0m\u001b[1;33m.\u001b[0m\u001b[0mretrieve\u001b[0m\u001b[1;33m(\u001b[0m\u001b[1;33m)\u001b[0m\u001b[1;33m\u001b[0m\u001b[1;33m\u001b[0m\u001b[0m\n\u001b[0m\u001b[0;32m    935\u001b[0m             \u001b[1;31m# Make sure that we get a last message telling us we are done\u001b[0m\u001b[1;33m\u001b[0m\u001b[1;33m\u001b[0m\u001b[1;33m\u001b[0m\u001b[0m\n\u001b[0;32m    936\u001b[0m             \u001b[0melapsed_time\u001b[0m \u001b[1;33m=\u001b[0m \u001b[0mtime\u001b[0m\u001b[1;33m.\u001b[0m\u001b[0mtime\u001b[0m\u001b[1;33m(\u001b[0m\u001b[1;33m)\u001b[0m \u001b[1;33m-\u001b[0m \u001b[0mself\u001b[0m\u001b[1;33m.\u001b[0m\u001b[0m_start_time\u001b[0m\u001b[1;33m\u001b[0m\u001b[1;33m\u001b[0m\u001b[0m\n",
      "\u001b[1;32mD:\\ProgramData\\Anaconda3\\lib\\site-packages\\joblib\\parallel.py\u001b[0m in \u001b[0;36mretrieve\u001b[1;34m(self)\u001b[0m\n\u001b[0;32m    831\u001b[0m             \u001b[1;32mtry\u001b[0m\u001b[1;33m:\u001b[0m\u001b[1;33m\u001b[0m\u001b[1;33m\u001b[0m\u001b[0m\n\u001b[0;32m    832\u001b[0m                 \u001b[1;32mif\u001b[0m \u001b[0mgetattr\u001b[0m\u001b[1;33m(\u001b[0m\u001b[0mself\u001b[0m\u001b[1;33m.\u001b[0m\u001b[0m_backend\u001b[0m\u001b[1;33m,\u001b[0m \u001b[1;34m'supports_timeout'\u001b[0m\u001b[1;33m,\u001b[0m \u001b[1;32mFalse\u001b[0m\u001b[1;33m)\u001b[0m\u001b[1;33m:\u001b[0m\u001b[1;33m\u001b[0m\u001b[1;33m\u001b[0m\u001b[0m\n\u001b[1;32m--> 833\u001b[1;33m                     \u001b[0mself\u001b[0m\u001b[1;33m.\u001b[0m\u001b[0m_output\u001b[0m\u001b[1;33m.\u001b[0m\u001b[0mextend\u001b[0m\u001b[1;33m(\u001b[0m\u001b[0mjob\u001b[0m\u001b[1;33m.\u001b[0m\u001b[0mget\u001b[0m\u001b[1;33m(\u001b[0m\u001b[0mtimeout\u001b[0m\u001b[1;33m=\u001b[0m\u001b[0mself\u001b[0m\u001b[1;33m.\u001b[0m\u001b[0mtimeout\u001b[0m\u001b[1;33m)\u001b[0m\u001b[1;33m)\u001b[0m\u001b[1;33m\u001b[0m\u001b[1;33m\u001b[0m\u001b[0m\n\u001b[0m\u001b[0;32m    834\u001b[0m                 \u001b[1;32melse\u001b[0m\u001b[1;33m:\u001b[0m\u001b[1;33m\u001b[0m\u001b[1;33m\u001b[0m\u001b[0m\n\u001b[0;32m    835\u001b[0m                     \u001b[0mself\u001b[0m\u001b[1;33m.\u001b[0m\u001b[0m_output\u001b[0m\u001b[1;33m.\u001b[0m\u001b[0mextend\u001b[0m\u001b[1;33m(\u001b[0m\u001b[0mjob\u001b[0m\u001b[1;33m.\u001b[0m\u001b[0mget\u001b[0m\u001b[1;33m(\u001b[0m\u001b[1;33m)\u001b[0m\u001b[1;33m)\u001b[0m\u001b[1;33m\u001b[0m\u001b[1;33m\u001b[0m\u001b[0m\n",
      "\u001b[1;32mD:\\ProgramData\\Anaconda3\\lib\\site-packages\\joblib\\_parallel_backends.py\u001b[0m in \u001b[0;36mwrap_future_result\u001b[1;34m(future, timeout)\u001b[0m\n\u001b[0;32m    519\u001b[0m         AsyncResults.get from multiprocessing.\"\"\"\n\u001b[0;32m    520\u001b[0m         \u001b[1;32mtry\u001b[0m\u001b[1;33m:\u001b[0m\u001b[1;33m\u001b[0m\u001b[1;33m\u001b[0m\u001b[0m\n\u001b[1;32m--> 521\u001b[1;33m             \u001b[1;32mreturn\u001b[0m \u001b[0mfuture\u001b[0m\u001b[1;33m.\u001b[0m\u001b[0mresult\u001b[0m\u001b[1;33m(\u001b[0m\u001b[0mtimeout\u001b[0m\u001b[1;33m=\u001b[0m\u001b[0mtimeout\u001b[0m\u001b[1;33m)\u001b[0m\u001b[1;33m\u001b[0m\u001b[1;33m\u001b[0m\u001b[0m\n\u001b[0m\u001b[0;32m    522\u001b[0m         \u001b[1;32mexcept\u001b[0m \u001b[0mLokyTimeoutError\u001b[0m\u001b[1;33m:\u001b[0m\u001b[1;33m\u001b[0m\u001b[1;33m\u001b[0m\u001b[0m\n\u001b[0;32m    523\u001b[0m             \u001b[1;32mraise\u001b[0m \u001b[0mTimeoutError\u001b[0m\u001b[1;33m(\u001b[0m\u001b[1;33m)\u001b[0m\u001b[1;33m\u001b[0m\u001b[1;33m\u001b[0m\u001b[0m\n",
      "\u001b[1;32mD:\\ProgramData\\Anaconda3\\lib\\concurrent\\futures\\_base.py\u001b[0m in \u001b[0;36mresult\u001b[1;34m(self, timeout)\u001b[0m\n\u001b[0;32m    425\u001b[0m                 \u001b[1;32mreturn\u001b[0m \u001b[0mself\u001b[0m\u001b[1;33m.\u001b[0m\u001b[0m__get_result\u001b[0m\u001b[1;33m(\u001b[0m\u001b[1;33m)\u001b[0m\u001b[1;33m\u001b[0m\u001b[1;33m\u001b[0m\u001b[0m\n\u001b[0;32m    426\u001b[0m \u001b[1;33m\u001b[0m\u001b[0m\n\u001b[1;32m--> 427\u001b[1;33m             \u001b[0mself\u001b[0m\u001b[1;33m.\u001b[0m\u001b[0m_condition\u001b[0m\u001b[1;33m.\u001b[0m\u001b[0mwait\u001b[0m\u001b[1;33m(\u001b[0m\u001b[0mtimeout\u001b[0m\u001b[1;33m)\u001b[0m\u001b[1;33m\u001b[0m\u001b[1;33m\u001b[0m\u001b[0m\n\u001b[0m\u001b[0;32m    428\u001b[0m \u001b[1;33m\u001b[0m\u001b[0m\n\u001b[0;32m    429\u001b[0m             \u001b[1;32mif\u001b[0m \u001b[0mself\u001b[0m\u001b[1;33m.\u001b[0m\u001b[0m_state\u001b[0m \u001b[1;32min\u001b[0m \u001b[1;33m[\u001b[0m\u001b[0mCANCELLED\u001b[0m\u001b[1;33m,\u001b[0m \u001b[0mCANCELLED_AND_NOTIFIED\u001b[0m\u001b[1;33m]\u001b[0m\u001b[1;33m:\u001b[0m\u001b[1;33m\u001b[0m\u001b[1;33m\u001b[0m\u001b[0m\n",
      "\u001b[1;32mD:\\ProgramData\\Anaconda3\\lib\\threading.py\u001b[0m in \u001b[0;36mwait\u001b[1;34m(self, timeout)\u001b[0m\n\u001b[0;32m    294\u001b[0m         \u001b[1;32mtry\u001b[0m\u001b[1;33m:\u001b[0m    \u001b[1;31m# restore state no matter what (e.g., KeyboardInterrupt)\u001b[0m\u001b[1;33m\u001b[0m\u001b[1;33m\u001b[0m\u001b[0m\n\u001b[0;32m    295\u001b[0m             \u001b[1;32mif\u001b[0m \u001b[0mtimeout\u001b[0m \u001b[1;32mis\u001b[0m \u001b[1;32mNone\u001b[0m\u001b[1;33m:\u001b[0m\u001b[1;33m\u001b[0m\u001b[1;33m\u001b[0m\u001b[0m\n\u001b[1;32m--> 296\u001b[1;33m                 \u001b[0mwaiter\u001b[0m\u001b[1;33m.\u001b[0m\u001b[0macquire\u001b[0m\u001b[1;33m(\u001b[0m\u001b[1;33m)\u001b[0m\u001b[1;33m\u001b[0m\u001b[1;33m\u001b[0m\u001b[0m\n\u001b[0m\u001b[0;32m    297\u001b[0m                 \u001b[0mgotit\u001b[0m \u001b[1;33m=\u001b[0m \u001b[1;32mTrue\u001b[0m\u001b[1;33m\u001b[0m\u001b[1;33m\u001b[0m\u001b[0m\n\u001b[0;32m    298\u001b[0m             \u001b[1;32melse\u001b[0m\u001b[1;33m:\u001b[0m\u001b[1;33m\u001b[0m\u001b[1;33m\u001b[0m\u001b[0m\n",
      "\u001b[1;31mKeyboardInterrupt\u001b[0m: "
     ]
    }
   ],
   "source": [
    "from sklearn.model_selection import GridSearchCV\n",
    "\n",
    "rf = RandomForestRegressor(max_features = 3, n_estimators = 400, n_jobs = 6)\n",
    "\n",
    "max_depth_values = [3,5,10]\n",
    "\n",
    "param_grid = {\"max_depth\":max_depth_values}\n",
    "grid_search = GridSearchCV(rf, param_grid, n_jobs = 6)\n",
    "grid_result = grid_search.fit(X_train, Y_train)"
   ]
  },
  {
   "cell_type": "code",
   "execution_count": null,
   "metadata": {},
   "outputs": [],
   "source": [
    "means = grid_result.cv_results_['mean_test_score']\n",
    "stds = grid_result.cv_results_['std_test_score']\n",
    "params = grid_result.cv_results_['params']\n",
    "for mean, stdev, param in zip(means, stds, params):\n",
    "    print(\"%f (%f) with: %r\" % (mean, stdev, param))\n",
    "    \n",
    "print(grid_result.best_params_)"
   ]
  },
  {
   "cell_type": "code",
   "execution_count": 21,
   "metadata": {},
   "outputs": [],
   "source": [
    "from sklearn.ensemble import RandomForestRegressor\n",
    "\n",
    "rf = RandomForestRegressor(n_estimators = 400, n_jobs = 6, max_features = 3)\n",
    "\n",
    "rf.fit(X_train, Y_train)\n",
    "y_pred = rf.predict(X_test)"
   ]
  },
  {
   "cell_type": "code",
   "execution_count": 22,
   "metadata": {},
   "outputs": [
    {
     "name": "stdout",
     "output_type": "stream",
     "text": [
      "3.8065690326717565\n"
     ]
    }
   ],
   "source": [
    "rmse = sqrt(mean_squared_error(Y_test, rf.predict(X_test)))\n",
    "print(rmse)"
   ]
  },
  {
   "cell_type": "code",
   "execution_count": 25,
   "metadata": {},
   "outputs": [
    {
     "name": "stdout",
     "output_type": "stream",
     "text": [
      "[0.1364576  0.06475473 0.13184188 0.07024449 0.0268377  0.01836205\n",
      " 0.01283556 0.53866599]\n"
     ]
    }
   ],
   "source": [
    "print(rf.feature_importances_)"
   ]
  },
  {
   "cell_type": "code",
   "execution_count": 23,
   "metadata": {},
   "outputs": [],
   "source": [
    "X_sub_data = pd.read_csv('data/test.csv',header=0)\n",
    "keys = X_sub_data.key\n",
    "\n",
    "X_sub_data.dropna()\n",
    "X_sub_data = X_sub_data[(X_sub_data['pickup_latitude'] <=90)\n",
    "            & (X_sub_data['pickup_latitude'] >=-90)\n",
    "            & (X_sub_data['pickup_longitude'] <=90)\n",
    "            & (X_sub_data['pickup_longitude'] >=-90)\n",
    "            & (X_sub_data['dropoff_latitude'] <=90)\n",
    "            & (X_sub_data['dropoff_latitude'] >=-90)\n",
    "            & (X_sub_data['dropoff_longitude'] <=90)\n",
    "            & (X_sub_data['dropoff_longitude'] >=-90)\n",
    "            & (X_sub_data['dropoff_longitude'] !=0)\n",
    "            & (X_sub_data['dropoff_latitude'] !=0)\n",
    "            & (X_sub_data['pickup_longitude'] !=0)\n",
    "            & (X_sub_data['pickup_latitude'] !=0)]\n",
    "\n",
    "X_sub_data[\"pickup_datetime\"] = pd.DatetimeIndex(X_sub_data[\"pickup_datetime\"])\n",
    "\n",
    "coordonnes_geo = X_sub_data.values[:,2:6]\n",
    "\n",
    "distances  = []\n",
    "\n",
    "for trajet in coordonnes_geo:\n",
    "    distance_trajet = dist(trajet)/1000\n",
    "    distances.append(distance_trajet)"
   ]
  },
  {
   "cell_type": "code",
   "execution_count": 24,
   "metadata": {},
   "outputs": [
    {
     "name": "stdout",
     "output_type": "stream",
     "text": [
      "      pickup_longitude  pickup_latitude  dropoff_longitude  dropoff_latitude  \\\n",
      "0           -73.973320        40.763805         -73.981430         40.743835   \n",
      "1           -73.986862        40.719383         -73.998886         40.739201   \n",
      "2           -73.982524        40.751260         -73.979654         40.746139   \n",
      "3           -73.981160        40.767807         -73.990448         40.751635   \n",
      "4           -73.966046        40.789775         -73.988565         40.744427   \n",
      "5           -73.960983        40.765547         -73.979177         40.740053   \n",
      "6           -73.949013        40.773204         -73.959622         40.770893   \n",
      "7           -73.777282        40.646636         -73.985083         40.759368   \n",
      "8           -74.014099        40.709638         -73.995106         40.741365   \n",
      "9           -73.969582        40.765519         -73.980686         40.770725   \n",
      "10          -73.989374        40.741973         -73.999300         40.722534   \n",
      "11          -74.001614        40.740893         -73.956387         40.767437   \n",
      "12          -73.991198        40.739937         -73.997166         40.735269   \n",
      "13          -73.982034        40.762723         -74.001867         40.761545   \n",
      "14          -73.992455        40.728701         -73.983397         40.750149   \n",
      "15          -73.983583        40.746993         -73.951178         40.785903   \n",
      "16          -74.006746        40.731721         -74.010204         40.732318   \n",
      "17          -73.976446        40.785598         -73.952220         40.772121   \n",
      "18          -73.973548        40.763349         -73.972096         40.756417   \n",
      "19          -73.970918        40.756025         -73.975954         40.755563   \n",
      "20          -73.926071        40.705866         -73.941741         40.714789   \n",
      "21          -73.970555        40.764702         -73.949132         40.771800   \n",
      "22          -73.989102        40.736360         -73.992767         40.747767   \n",
      "23          -74.003525        40.748480         -73.991520         40.762960   \n",
      "24          -73.990352        40.759992         -74.015665         40.711682   \n",
      "25          -73.989482        40.757450         -74.000850         40.762705   \n",
      "26          -73.870785        40.773722         -73.741922         40.689945   \n",
      "27          -73.992682        40.733877         -73.938852         40.808220   \n",
      "28          -73.954020        40.778705         -73.950277         40.768810   \n",
      "29          -73.972742        40.743432         -74.007125         40.710192   \n",
      "...                ...              ...                ...               ...   \n",
      "9884        -73.790022        40.643817         -73.735688         40.773400   \n",
      "9885        -74.007878        40.722762         -73.965740         40.754505   \n",
      "9886        -73.978852        40.752837         -73.941152         40.812722   \n",
      "9887        -73.959087        40.783282         -73.978802         40.785655   \n",
      "9888        -73.956488        40.767512         -73.956488         40.767512   \n",
      "9889        -73.966650        40.714675         -73.971912         40.693667   \n",
      "9890        -73.976602        40.754152         -73.993297         40.730887   \n",
      "9891        -73.987185        40.760505         -73.938755         40.799507   \n",
      "9892        -73.969175        40.757770         -73.952318         40.781030   \n",
      "9893        -73.949657        40.796197         -73.911755         40.827672   \n",
      "9894        -74.002267        40.730415         -73.990360         40.756807   \n",
      "9895        -73.985840        40.731167         -73.953883         40.653937   \n",
      "9896        -73.955490        40.776862         -73.982162         40.769302   \n",
      "9897        -73.965782        40.805538         -73.982384         40.761600   \n",
      "9898        -73.979042        40.777515         -73.983658         40.781082   \n",
      "9899        -73.983238        40.764874         -73.922928         40.743458   \n",
      "9900        -73.962952        40.772480         -73.976051         40.786289   \n",
      "9901        -73.977943        40.762753         -73.976219         40.776451   \n",
      "9902        -73.905525        40.752655         -73.864151         40.737091   \n",
      "9903        -73.988403        40.738731         -73.992340         40.759193   \n",
      "9904        -73.776848        40.645035         -73.955460         40.652458   \n",
      "9905        -73.989647        40.767406         -73.941177         40.845695   \n",
      "9906        -73.988052        40.720776         -73.991043         40.718346   \n",
      "9907        -73.863457        40.769611         -73.980995         40.763241   \n",
      "9908        -73.987968        40.718922         -73.982124         40.732956   \n",
      "9909        -73.968124        40.796997         -73.955643         40.780388   \n",
      "9910        -73.945511        40.803600         -73.960213         40.776371   \n",
      "9911        -73.991600        40.726608         -73.789742         40.647011   \n",
      "9912        -73.985573        40.735432         -73.939178         40.801731   \n",
      "9913        -73.988022        40.754070         -74.000282         40.759220   \n",
      "\n",
      "      year  hour  month  distances(km)  \n",
      "0     2015    13      1       0.002321  \n",
      "1     2015    13      1       0.002424  \n",
      "2     2011    11     10       0.000618  \n",
      "3     2012    21     12       0.001960  \n",
      "4     2012    21     12       0.005383  \n",
      "5     2012    21     12       0.003221  \n",
      "6     2011    12     10       0.000932  \n",
      "7     2011    12     10       0.021567  \n",
      "8     2011    12     10       0.003871  \n",
      "9     2014    15      2       0.001101  \n",
      "10    2014    15      2       0.002316  \n",
      "11    2014    15      2       0.004825  \n",
      "12    2010    20      3       0.000723  \n",
      "13    2010    20      3       0.001680  \n",
      "14    2011     3     10       0.002502  \n",
      "15    2011     3     10       0.005114  \n",
      "16    2012    16      7       0.000300  \n",
      "17    2012    16      7       0.002534  \n",
      "18    2012    16      7       0.000779  \n",
      "19    2012    16      7       0.000428  \n",
      "20    2014     2     10       0.001654  \n",
      "21    2014    13      6       0.001973  \n",
      "22    2014    13      6       0.001304  \n",
      "23    2014    13      6       0.001901  \n",
      "24    2014    13      6       0.005775  \n",
      "25    2014    13      6       0.001123  \n",
      "26    2014    13      6       0.014320  \n",
      "27    2014    13      6       0.009424  \n",
      "28    2014    13      6       0.001143  \n",
      "29    2014    13      6       0.004697  \n",
      "...    ...   ...    ...            ...  \n",
      "9884  2013    22      9       0.015105  \n",
      "9885  2013    22      9       0.005009  \n",
      "9886  2013    22      9       0.007372  \n",
      "9887  2013    22      9       0.001685  \n",
      "9888  2013    22      9       0.000000  \n",
      "9889  2013    22      9       0.002375  \n",
      "9890  2013    22      9       0.002943  \n",
      "9891  2013    22      9       0.005956  \n",
      "9892  2013    22      9       0.002949  \n",
      "9893  2013    22      9       0.004738  \n",
      "9894  2013    22      9       0.003099  \n",
      "9895  2013    22      9       0.008992  \n",
      "9896  2013    22      9       0.002403  \n",
      "9897  2015    11      2       0.005077  \n",
      "9898  2015    15      1       0.000556  \n",
      "9899  2015     0      6       0.005621  \n",
      "9900  2015    21      4       0.001891  \n",
      "9901  2015    11      4       0.001528  \n",
      "9902  2015     1      6       0.003898  \n",
      "9903  2015    10      5       0.002296  \n",
      "9904  2015    20      6       0.015129  \n",
      "9905  2015    19      2       0.009608  \n",
      "9906  2015     1      6       0.000370  \n",
      "9907  2015     9      2       0.009949  \n",
      "9908  2015    13      5       0.001635  \n",
      "9909  2015    12      5       0.002124  \n",
      "9910  2015    17      1       0.003269  \n",
      "9911  2015    20      4       0.019217  \n",
      "9912  2015     1      1       0.008340  \n",
      "9913  2015    14      1       0.001183  \n",
      "\n",
      "[9914 rows x 8 columns]\n"
     ]
    }
   ],
   "source": [
    "X_sub = X_sub_data.iloc[:, 2:]\n",
    "X_sub = X_sub.drop(columns = \"passenger_count\")\n",
    "X_sub['year'] = X_sub_data[\"pickup_datetime\"].dt.year\n",
    "#X['day_of_week'] = data_sample[\"pickup_datetime\"].dt.dayofweek\n",
    "X_sub['hour'] = X_sub_data[\"pickup_datetime\"].dt.hour\n",
    "X_sub['month'] = X_sub_data[\"pickup_datetime\"].dt.month\n",
    "X_sub[\"distances(km)\"] = distances\n",
    "\n",
    "print(X_sub)\n",
    "\n",
    "Y_sub = rf.predict(X_sub)\n",
    "X_sub['fare_amount']=Y_sub\n",
    "X_sub['key']=keys\n",
    "Submission = X_sub[['key','fare_amount']]\n",
    "Submission.to_csv('Sub_test.csv',index=False)"
   ]
  },
  {
   "cell_type": "code",
   "execution_count": null,
   "metadata": {},
   "outputs": [],
   "source": []
  }
 ],
 "metadata": {
  "kernelspec": {
   "display_name": "Python 3",
   "language": "python",
   "name": "python3"
  },
  "language_info": {
   "codemirror_mode": {
    "name": "ipython",
    "version": 3
   },
   "file_extension": ".py",
   "mimetype": "text/x-python",
   "name": "python",
   "nbconvert_exporter": "python",
   "pygments_lexer": "ipython3",
   "version": "3.7.3"
  }
 },
 "nbformat": 4,
 "nbformat_minor": 2
}

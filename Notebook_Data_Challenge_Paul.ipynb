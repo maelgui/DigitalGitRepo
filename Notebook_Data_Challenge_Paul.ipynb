{
 "cells": [
  {
   "cell_type": "code",
   "execution_count": 50,
   "metadata": {},
   "outputs": [],
   "source": [
    "from pylab import *\n",
    "import matplotlib.pyplot as plt\n",
    "import pandas as pd\n",
    "from sklearn.model_selection import train_test_split\n",
    "import folium"
   ]
  },
  {
   "cell_type": "code",
   "execution_count": 28,
   "metadata": {},
   "outputs": [],
   "source": [
    "data_path=  \"C:/Travail/Central Digital Lab/Data Challenge/train.csv\"\n",
    "data_sample = pd.read_csv(data_path,skiprows = range(1,54900000))\n",
    "#data_sample.columns = [\"key\",\"fare\",\"pickup_datetime\",\"pickup_longitude\",\n",
    "                       #\"pickup_latitude\",\"dropoff_longitude\",\"dropoff_latitude\",\"passenger_count\"]"
   ]
  },
  {
   "cell_type": "code",
   "execution_count": 54,
   "metadata": {},
   "outputs": [
    {
     "data": {
      "text/plain": [
       "40.750713"
      ]
     },
     "execution_count": 54,
     "metadata": {},
     "output_type": "execute_result"
    }
   ],
   "source": [
    "data_sample.iloc[1]['pickup_latitude']"
   ]
  },
  {
   "cell_type": "code",
   "execution_count": 55,
   "metadata": {},
   "outputs": [],
   "source": [
    "data = pd.DataFrame({\n",
    "'lat': data_sample['pickup_latitude'][0:50],\n",
    "'lon': data_sample['pickup_longitude'][0:50],\n",
    "})\n",
    "data\n",
    "\n",
    "m = folium.Map(location=(40.7648,-73.9808),tiles='Stamen Terrain',zoom_start = 12)\n",
    "\n",
    "for i in range(0,len(data)):\n",
    "    folium.Marker([data.iloc[i]['lat'],data.iloc[i]['lon']]).add_to(m)\n",
    "    \n",
    "#m.save('./')"
   ]
  },
  {
   "cell_type": "code",
   "execution_count": 56,
   "metadata": {},
   "outputs": [
    {
     "data": {
      "text/html": [
       "<div style=\"width:100%;\"><div style=\"position:relative;width:100%;height:0;padding-bottom:60%;\"><iframe src=\"data:text/html;charset=utf-8;base64,PCFET0NUWVBFIGh0bWw+CjxoZWFkPiAgICAKICAgIDxtZXRhIGh0dHAtZXF1aXY9ImNvbnRlbnQtdHlwZSIgY29udGVudD0idGV4dC9odG1sOyBjaGFyc2V0PVVURi04IiAvPgogICAgCiAgICAgICAgPHNjcmlwdD4KICAgICAgICAgICAgTF9OT19UT1VDSCA9IGZhbHNlOwogICAgICAgICAgICBMX0RJU0FCTEVfM0QgPSBmYWxzZTsKICAgICAgICA8L3NjcmlwdD4KICAgIAogICAgPHNjcmlwdCBzcmM9Imh0dHBzOi8vY2RuLmpzZGVsaXZyLm5ldC9ucG0vbGVhZmxldEAxLjUuMS9kaXN0L2xlYWZsZXQuanMiPjwvc2NyaXB0PgogICAgPHNjcmlwdCBzcmM9Imh0dHBzOi8vY29kZS5qcXVlcnkuY29tL2pxdWVyeS0xLjEyLjQubWluLmpzIj48L3NjcmlwdD4KICAgIDxzY3JpcHQgc3JjPSJodHRwczovL21heGNkbi5ib290c3RyYXBjZG4uY29tL2Jvb3RzdHJhcC8zLjIuMC9qcy9ib290c3RyYXAubWluLmpzIj48L3NjcmlwdD4KICAgIDxzY3JpcHQgc3JjPSJodHRwczovL2NkbmpzLmNsb3VkZmxhcmUuY29tL2FqYXgvbGlicy9MZWFmbGV0LmF3ZXNvbWUtbWFya2Vycy8yLjAuMi9sZWFmbGV0LmF3ZXNvbWUtbWFya2Vycy5qcyI+PC9zY3JpcHQ+CiAgICA8bGluayByZWw9InN0eWxlc2hlZXQiIGhyZWY9Imh0dHBzOi8vY2RuLmpzZGVsaXZyLm5ldC9ucG0vbGVhZmxldEAxLjUuMS9kaXN0L2xlYWZsZXQuY3NzIi8+CiAgICA8bGluayByZWw9InN0eWxlc2hlZXQiIGhyZWY9Imh0dHBzOi8vbWF4Y2RuLmJvb3RzdHJhcGNkbi5jb20vYm9vdHN0cmFwLzMuMi4wL2Nzcy9ib290c3RyYXAubWluLmNzcyIvPgogICAgPGxpbmsgcmVsPSJzdHlsZXNoZWV0IiBocmVmPSJodHRwczovL21heGNkbi5ib290c3RyYXBjZG4uY29tL2Jvb3RzdHJhcC8zLjIuMC9jc3MvYm9vdHN0cmFwLXRoZW1lLm1pbi5jc3MiLz4KICAgIDxsaW5rIHJlbD0ic3R5bGVzaGVldCIgaHJlZj0iaHR0cHM6Ly9tYXhjZG4uYm9vdHN0cmFwY2RuLmNvbS9mb250LWF3ZXNvbWUvNC42LjMvY3NzL2ZvbnQtYXdlc29tZS5taW4uY3NzIi8+CiAgICA8bGluayByZWw9InN0eWxlc2hlZXQiIGhyZWY9Imh0dHBzOi8vY2RuanMuY2xvdWRmbGFyZS5jb20vYWpheC9saWJzL0xlYWZsZXQuYXdlc29tZS1tYXJrZXJzLzIuMC4yL2xlYWZsZXQuYXdlc29tZS1tYXJrZXJzLmNzcyIvPgogICAgPGxpbmsgcmVsPSJzdHlsZXNoZWV0IiBocmVmPSJodHRwczovL3Jhd2Nkbi5naXRoYWNrLmNvbS9weXRob24tdmlzdWFsaXphdGlvbi9mb2xpdW0vbWFzdGVyL2ZvbGl1bS90ZW1wbGF0ZXMvbGVhZmxldC5hd2Vzb21lLnJvdGF0ZS5jc3MiLz4KICAgIDxzdHlsZT5odG1sLCBib2R5IHt3aWR0aDogMTAwJTtoZWlnaHQ6IDEwMCU7bWFyZ2luOiAwO3BhZGRpbmc6IDA7fTwvc3R5bGU+CiAgICA8c3R5bGU+I21hcCB7cG9zaXRpb246YWJzb2x1dGU7dG9wOjA7Ym90dG9tOjA7cmlnaHQ6MDtsZWZ0OjA7fTwvc3R5bGU+CiAgICAKICAgICAgICAgICAgPG1ldGEgbmFtZT0idmlld3BvcnQiIGNvbnRlbnQ9IndpZHRoPWRldmljZS13aWR0aCwKICAgICAgICAgICAgICAgIGluaXRpYWwtc2NhbGU9MS4wLCBtYXhpbXVtLXNjYWxlPTEuMCwgdXNlci1zY2FsYWJsZT1ubyIgLz4KICAgICAgICAgICAgPHN0eWxlPgogICAgICAgICAgICAgICAgI21hcF8xNjljNWVlN2U4MmU0OWY5YmYyYTZjZDZlZmUyODRiNCB7CiAgICAgICAgICAgICAgICAgICAgcG9zaXRpb246IHJlbGF0aXZlOwogICAgICAgICAgICAgICAgICAgIHdpZHRoOiAxMDAuMCU7CiAgICAgICAgICAgICAgICAgICAgaGVpZ2h0OiAxMDAuMCU7CiAgICAgICAgICAgICAgICAgICAgbGVmdDogMC4wJTsKICAgICAgICAgICAgICAgICAgICB0b3A6IDAuMCU7CiAgICAgICAgICAgICAgICB9CiAgICAgICAgICAgIDwvc3R5bGU+CiAgICAgICAgCjwvaGVhZD4KPGJvZHk+ICAgIAogICAgCiAgICAgICAgICAgIDxkaXYgY2xhc3M9ImZvbGl1bS1tYXAiIGlkPSJtYXBfMTY5YzVlZTdlODJlNDlmOWJmMmE2Y2Q2ZWZlMjg0YjQiID48L2Rpdj4KICAgICAgICAKPC9ib2R5Pgo8c2NyaXB0PiAgICAKICAgIAogICAgICAgICAgICB2YXIgbWFwXzE2OWM1ZWU3ZTgyZTQ5ZjliZjJhNmNkNmVmZTI4NGI0ID0gTC5tYXAoCiAgICAgICAgICAgICAgICAibWFwXzE2OWM1ZWU3ZTgyZTQ5ZjliZjJhNmNkNmVmZTI4NGI0IiwKICAgICAgICAgICAgICAgIHsKICAgICAgICAgICAgICAgICAgICBjZW50ZXI6IFs0MC43NjQ4LCAtNzMuOTgwOF0sCiAgICAgICAgICAgICAgICAgICAgY3JzOiBMLkNSUy5FUFNHMzg1NywKICAgICAgICAgICAgICAgICAgICB6b29tOiAxMiwKICAgICAgICAgICAgICAgICAgICB6b29tQ29udHJvbDogdHJ1ZSwKICAgICAgICAgICAgICAgICAgICBwcmVmZXJDYW52YXM6IGZhbHNlLAogICAgICAgICAgICAgICAgfQogICAgICAgICAgICApOwoKICAgICAgICAgICAgCgogICAgICAgIAogICAgCiAgICAgICAgICAgIHZhciB0aWxlX2xheWVyX2UwMWU4ODdhY2NkZjQ3OTlhZDJlNWI2OWQ2MjA3ODE2ID0gTC50aWxlTGF5ZXIoCiAgICAgICAgICAgICAgICAiaHR0cHM6Ly9zdGFtZW4tdGlsZXMte3N9LmEuc3NsLmZhc3RseS5uZXQvdGVycmFpbi97en0ve3h9L3t5fS5qcGciLAogICAgICAgICAgICAgICAgeyJhdHRyaWJ1dGlvbiI6ICJNYXAgdGlsZXMgYnkgXHUwMDNjYSBocmVmPVwiaHR0cDovL3N0YW1lbi5jb21cIlx1MDAzZVN0YW1lbiBEZXNpZ25cdTAwM2MvYVx1MDAzZSwgdW5kZXIgXHUwMDNjYSBocmVmPVwiaHR0cDovL2NyZWF0aXZlY29tbW9ucy5vcmcvbGljZW5zZXMvYnkvMy4wXCJcdTAwM2VDQyBCWSAzLjBcdTAwM2MvYVx1MDAzZS4gRGF0YSBieSBcdTAwMjZjb3B5OyBcdTAwM2NhIGhyZWY9XCJodHRwOi8vb3BlbnN0cmVldG1hcC5vcmdcIlx1MDAzZU9wZW5TdHJlZXRNYXBcdTAwM2MvYVx1MDAzZSwgdW5kZXIgXHUwMDNjYSBocmVmPVwiaHR0cDovL2NyZWF0aXZlY29tbW9ucy5vcmcvbGljZW5zZXMvYnktc2EvMy4wXCJcdTAwM2VDQyBCWSBTQVx1MDAzYy9hXHUwMDNlLiIsICJkZXRlY3RSZXRpbmEiOiBmYWxzZSwgIm1heE5hdGl2ZVpvb20iOiAxOCwgIm1heFpvb20iOiAxOCwgIm1pblpvb20iOiAwLCAibm9XcmFwIjogZmFsc2UsICJvcGFjaXR5IjogMSwgInN1YmRvbWFpbnMiOiAiYWJjIiwgInRtcyI6IGZhbHNlfQogICAgICAgICAgICApLmFkZFRvKG1hcF8xNjljNWVlN2U4MmU0OWY5YmYyYTZjZDZlZmUyODRiNCk7CiAgICAgICAgCiAgICAKICAgICAgICAgICAgdmFyIG1hcmtlcl81Nzg0NTU3NmUwNmY0NDdkOTE0MzY4MThmOTFlNmZhNiA9IEwubWFya2VyKAogICAgICAgICAgICAgICAgWzQwLjc0MTE2NSwgLTczLjk4MTUxNzAwMDAwMDAxXSwKICAgICAgICAgICAgICAgIHt9CiAgICAgICAgICAgICkuYWRkVG8obWFwXzE2OWM1ZWU3ZTgyZTQ5ZjliZjJhNmNkNmVmZTI4NGI0KTsKICAgICAgICAKICAgIAogICAgICAgICAgICB2YXIgbWFya2VyXzE2YzAzN2E3NWY5ZDQzMzI5NjAxZWEyZmFmYTQ4YjdlID0gTC5tYXJrZXIoCiAgICAgICAgICAgICAgICBbNDAuNzUwNzEzLCAtNzQuMDAyXSwKICAgICAgICAgICAgICAgIHt9CiAgICAgICAgICAgICkuYWRkVG8obWFwXzE2OWM1ZWU3ZTgyZTQ5ZjliZjJhNmNkNmVmZTI4NGI0KTsKICAgICAgICAKICAgIAogICAgICAgICAgICB2YXIgbWFya2VyXzlhOGUzMWUwMDA0OTQwZWM5MDZhZTI5YTBjY2QwYjE2ID0gTC5tYXJrZXIoCiAgICAgICAgICAgICAgICBbNDAuNjgzNDI1LCAtNzMuOTk3NjVdLAogICAgICAgICAgICAgICAge30KICAgICAgICAgICAgKS5hZGRUbyhtYXBfMTY5YzVlZTdlODJlNDlmOWJmMmE2Y2Q2ZWZlMjg0YjQpOwogICAgICAgIAogICAgCiAgICAgICAgICAgIHZhciBtYXJrZXJfZmRhY2YzY2E0ZmVmNDRkOTgzYzFlYjk2Mzk3YmRiMmUgPSBMLm1hcmtlcigKICAgICAgICAgICAgICAgIFs0MC43MTQyODgsIC03NC4wMDYxNDddLAogICAgICAgICAgICAgICAge30KICAgICAgICAgICAgKS5hZGRUbyhtYXBfMTY5YzVlZTdlODJlNDlmOWJmMmE2Y2Q2ZWZlMjg0YjQpOwogICAgICAgIAogICAgCiAgICAgICAgICAgIHZhciBtYXJrZXJfNmM3YmIyNzRkYmM0NDk3NmIyNGUwNjlhY2YxOGQ0M2QgPSBMLm1hcmtlcigKICAgICAgICAgICAgICAgIFs0MC43NTU2MDQ5OTk5OTk5OTYsIC03My45NzYxMzddLAogICAgICAgICAgICAgICAge30KICAgICAgICAgICAgKS5hZGRUbyhtYXBfMTY5YzVlZTdlODJlNDlmOWJmMmE2Y2Q2ZWZlMjg0YjQpOwogICAgICAgIAogICAgCiAgICAgICAgICAgIHZhciBtYXJrZXJfYWExYzY1OWQwOTJmNDczM2JjZjEzNmQxYTAyZmM4ZWUgPSBMLm1hcmtlcigKICAgICAgICAgICAgICAgIFs0MC43NzQyMzMsIC03My45ODA2MzNdLAogICAgICAgICAgICAgICAge30KICAgICAgICAgICAgKS5hZGRUbyhtYXBfMTY5YzVlZTdlODJlNDlmOWJmMmE2Y2Q2ZWZlMjg0YjQpOwogICAgICAgIAogICAgCiAgICAgICAgICAgIHZhciBtYXJrZXJfNjI1YmUwOWU0MjYyNGE3MzkzOWU3YjFiOTU0NjkxM2IgPSBMLm1hcmtlcigKICAgICAgICAgICAgICAgIFs0MC43MDU5MDk5OTk5OTk5OTYsIC03NC4wMTc0M10sCiAgICAgICAgICAgICAgICB7fQogICAgICAgICAgICApLmFkZFRvKG1hcF8xNjljNWVlN2U4MmU0OWY5YmYyYTZjZDZlZmUyODRiNCk7CiAgICAgICAgCiAgICAKICAgICAgICAgICAgdmFyIG1hcmtlcl9iMWI0N2I2MGVjZjc0YzRlYWRmZmZlYTAwYjMxZDQ4YiA9IEwubWFya2VyKAogICAgICAgICAgICAgICAgWzQwLjc0NzIzMjAwMDAwMDAwNCwgLTczLjk4OTk4OF0sCiAgICAgICAgICAgICAgICB7fQogICAgICAgICAgICApLmFkZFRvKG1hcF8xNjljNWVlN2U4MmU0OWY5YmYyYTZjZDZlZmUyODRiNCk7CiAgICAgICAgCiAgICAKICAgICAgICAgICAgdmFyIG1hcmtlcl9kNTFiMjUzZDU2ODc0MjUzYjJkMDE2YWUzMTU4YTQwMiA9IEwubWFya2VyKAogICAgICAgICAgICAgICAgWzQwLjc0NDg0NCwgLTczLjk0ODcyNjAwMDAwMDAxXSwKICAgICAgICAgICAgICAgIHt9CiAgICAgICAgICAgICkuYWRkVG8obWFwXzE2OWM1ZWU3ZTgyZTQ5ZjliZjJhNmNkNmVmZTI4NGI0KTsKICAgICAgICAKICAgIAogICAgICAgICAgICB2YXIgbWFya2VyXzg2MjYxODAxNmZhZTQ1MWZiMTU1Yzg3MWIyNTk0NTJmID0gTC5tYXJrZXIoCiAgICAgICAgICAgICAgICBbNDAuNzQ4NjQsIC03NC4wMDM0ODhdLAogICAgICAgICAgICAgICAge30KICAgICAgICAgICAgKS5hZGRUbyhtYXBfMTY5YzVlZTdlODJlNDlmOWJmMmE2Y2Q2ZWZlMjg0YjQpOwogICAgICAgIAogICAgCiAgICAgICAgICAgIHZhciBtYXJrZXJfNTc1MmVmNGEyY2E4NGYyNmIwMWM5YzYwNWYyZjU3MzUgPSBMLm1hcmtlcigKICAgICAgICAgICAgICAgIFs0MC43MzQ5NSwgLTczLjk5MTM1Ml0sCiAgICAgICAgICAgICAgICB7fQogICAgICAgICAgICApLmFkZFRvKG1hcF8xNjljNWVlN2U4MmU0OWY5YmYyYTZjZDZlZmUyODRiNCk7CiAgICAgICAgCiAgICAKICAgICAgICAgICAgdmFyIG1hcmtlcl84YzNhY2RhNmVjNzM0MGNiOTg3NmI0ZmFkZjc1MmJlMiA9IEwubWFya2VyKAogICAgICAgICAgICAgICAgWzQwLjczMDYzNywgLTczLjk5OTkyOF0sCiAgICAgICAgICAgICAgICB7fQogICAgICAgICAgICApLmFkZFRvKG1hcF8xNjljNWVlN2U4MmU0OWY5YmYyYTZjZDZlZmUyODRiNCk7CiAgICAgICAgCiAgICAKICAgICAgICAgICAgdmFyIG1hcmtlcl84YThlMzc4ZDZjNGQ0OWI0ODJhMzdmNzlkNzYzNGE4NSA9IEwubWFya2VyKAogICAgICAgICAgICAgICAgWzQwLjc0MDE4NiwgLTczLjk4ODExN10sCiAgICAgICAgICAgICAgICB7fQogICAgICAgICAgICApLmFkZFRvKG1hcF8xNjljNWVlN2U4MmU0OWY5YmYyYTZjZDZlZmUyODRiNCk7CiAgICAgICAgCiAgICAKICAgICAgICAgICAgdmFyIG1hcmtlcl8yZThhNWM3ZDNjN2E0NDlkODA3OTRjZTQ1OThmNGYzYSA9IEwubWFya2VyKAogICAgICAgICAgICAgICAgWzQwLjc5NDE2OCwgLTczLjk3MjE2Ml0sCiAgICAgICAgICAgICAgICB7fQogICAgICAgICAgICApLmFkZFRvKG1hcF8xNjljNWVlN2U4MmU0OWY5YmYyYTZjZDZlZmUyODRiNCk7CiAgICAgICAgCiAgICAKICAgICAgICAgICAgdmFyIG1hcmtlcl9mOGJhMTNlODlhNzc0OTY1Yjg0M2EzYWI0YWQyZGExZCA9IEwubWFya2VyKAogICAgICAgICAgICAgICAgWzQwLjcxOTkzOCwgLTczLjk5NzEwNV0sCiAgICAgICAgICAgICAgICB7fQogICAgICAgICAgICApLmFkZFRvKG1hcF8xNjljNWVlN2U4MmU0OWY5YmYyYTZjZDZlZmUyODRiNCk7CiAgICAgICAgCiAgICAKICAgICAgICAgICAgdmFyIG1hcmtlcl9jY2FlY2NjY2VlNjQ0ZTg0YjBhNGYzNDNlYzljYmYwMSA9IEwubWFya2VyKAogICAgICAgICAgICAgICAgWzQwLjczNzMzNDk5OTk5OTk5NSwgLTczLjk5MjQzXSwKICAgICAgICAgICAgICAgIHt9CiAgICAgICAgICAgICkuYWRkVG8obWFwXzE2OWM1ZWU3ZTgyZTQ5ZjliZjJhNmNkNmVmZTI4NGI0KTsKICAgICAgICAKICAgIAogICAgICAgICAgICB2YXIgbWFya2VyXzg3ZmE5YmYwZjM5MjQyYmNhNDRhOGZkNWZmZDcyNGE2ID0gTC5tYXJrZXIoCiAgICAgICAgICAgICAgICBbNDAuNzY4Njk2OTk5OTk5OTk2LCAtNzMuOTg0MjJdLAogICAgICAgICAgICAgICAge30KICAgICAgICAgICAgKS5hZGRUbyhtYXBfMTY5YzVlZTdlODJlNDlmOWJmMmE2Y2Q2ZWZlMjg0YjQpOwogICAgICAgIAogICAgCiAgICAgICAgICAgIHZhciBtYXJrZXJfMTFhZDQyZWRlNmVlNDU3MWIxZjkzNTRlOTc4YzRjODUgPSBMLm1hcmtlcigKICAgICAgICAgICAgICAgIFs0MC43MjQ5NTMsIC03My45OTQzMTRdLAogICAgICAgICAgICAgICAge30KICAgICAgICAgICAgKS5hZGRUbyhtYXBfMTY5YzVlZTdlODJlNDlmOWJmMmE2Y2Q2ZWZlMjg0YjQpOwogICAgICAgIAogICAgCiAgICAgICAgICAgIHZhciBtYXJrZXJfNTRiMGE5NGUzNjBiNDdjZDkzNTAxMzUzOTRjZDMwM2YgPSBMLm1hcmtlcigKICAgICAgICAgICAgICAgIFs0MC43MzU3MDQ5OTk5OTk5OTYsIC03My45OTMxNzNdLAogICAgICAgICAgICAgICAge30KICAgICAgICAgICAgKS5hZGRUbyhtYXBfMTY5YzVlZTdlODJlNDlmOWJmMmE2Y2Q2ZWZlMjg0YjQpOwogICAgICAgIAogICAgCiAgICAgICAgICAgIHZhciBtYXJrZXJfMmI5MzJmODIwMmVkNGZmOWFjNmZkMjZmM2U2MzIxMjMgPSBMLm1hcmtlcigKICAgICAgICAgICAgICAgIFs0MC43NTc2MiwgLTczLjk3NTk1Nzk5OTk5OTk5XSwKICAgICAgICAgICAgICAgIHt9CiAgICAgICAgICAgICkuYWRkVG8obWFwXzE2OWM1ZWU3ZTgyZTQ5ZjliZjJhNmNkNmVmZTI4NGI0KTsKICAgICAgICAKICAgIAogICAgICAgICAgICB2YXIgbWFya2VyX2RhNDlmYWExZjkzODRhZmY4MmEyNThmNzI2MjJiNDU1ID0gTC5tYXJrZXIoCiAgICAgICAgICAgICAgICBbNDAuNzUxOTE3OTk5OTk5OTk2LCAtNzMuOTc0MDk4XSwKICAgICAgICAgICAgICAgIHt9CiAgICAgICAgICAgICkuYWRkVG8obWFwXzE2OWM1ZWU3ZTgyZTQ5ZjliZjJhNmNkNmVmZTI4NGI0KTsKICAgICAgICAKICAgIAogICAgICAgICAgICB2YXIgbWFya2VyXzY0ZGU5ZGEzOTg0MTQ2OTRhM2EwZjIxOTRmNjI4YmY5ID0gTC5tYXJrZXIoCiAgICAgICAgICAgICAgICBbNDAuNzMyNjMzLCAtNzMuOTk2MTg1XSwKICAgICAgICAgICAgICAgIHt9CiAgICAgICAgICAgICkuYWRkVG8obWFwXzE2OWM1ZWU3ZTgyZTQ5ZjliZjJhNmNkNmVmZTI4NGI0KTsKICAgICAgICAKICAgIAogICAgICAgICAgICB2YXIgbWFya2VyX2E1NjM5MzY1NjY0OTQyODVhOTRkYjhmMzM3NmNjZjA5ID0gTC5tYXJrZXIoCiAgICAgICAgICAgICAgICBbNDAuNzU5MzcyLCAtNzMuOTgxNTM1XSwKICAgICAgICAgICAgICAgIHt9CiAgICAgICAgICAgICkuYWRkVG8obWFwXzE2OWM1ZWU3ZTgyZTQ5ZjliZjJhNmNkNmVmZTI4NGI0KTsKICAgICAgICAKICAgIAogICAgICAgICAgICB2YXIgbWFya2VyX2ZjMTJmODY5NWQ5MzQxYjQ4NjAyYzE5M2QwYzk0ZDA4ID0gTC5tYXJrZXIoCiAgICAgICAgICAgICAgICBbNDAuNzQ4NzkzLCAtNzQuMDA0MDJdLAogICAgICAgICAgICAgICAge30KICAgICAgICAgICAgKS5hZGRUbyhtYXBfMTY5YzVlZTdlODJlNDlmOWJmMmE2Y2Q2ZWZlMjg0YjQpOwogICAgICAgIAogICAgCiAgICAgICAgICAgIHZhciBtYXJrZXJfYjBjNjg4OTk2Y2RhNDAyNzljNTdiNjg2MzUzYmI2ZWQgPSBMLm1hcmtlcigKICAgICAgICAgICAgICAgIFs0MC43MjI4MywgLTc0LjAwOTc5XSwKICAgICAgICAgICAgICAgIHt9CiAgICAgICAgICAgICkuYWRkVG8obWFwXzE2OWM1ZWU3ZTgyZTQ5ZjliZjJhNmNkNmVmZTI4NGI0KTsKICAgICAgICAKICAgIAogICAgICAgICAgICB2YXIgbWFya2VyXzFmNjA1ODE5NDZmYTQzNzZhYWFkNWQ2NGYyNWIxOTA5ID0gTC5tYXJrZXIoCiAgICAgICAgICAgICAgICBbNDAuNzYxMTksIC03My45OTA5MjZdLAogICAgICAgICAgICAgICAge30KICAgICAgICAgICAgKS5hZGRUbyhtYXBfMTY5YzVlZTdlODJlNDlmOWJmMmE2Y2Q2ZWZlMjg0YjQpOwogICAgICAgIAogICAgCiAgICAgICAgICAgIHZhciBtYXJrZXJfY2Y4NmZlYTJkMTIxNDMxMmI3MzQyNDg1YTAyOGFiYjggPSBMLm1hcmtlcigKICAgICAgICAgICAgICAgIFs0MC43MTUxNjcsIC03My45OTg1OTddLAogICAgICAgICAgICAgICAge30KICAgICAgICAgICAgKS5hZGRUbyhtYXBfMTY5YzVlZTdlODJlNDlmOWJmMmE2Y2Q2ZWZlMjg0YjQpOwogICAgICAgIAogICAgCiAgICAgICAgICAgIHZhciBtYXJrZXJfZmY2Yzk4MDA3NDNkNDVkNGIzYTA3NzQyMDI1M2YwZmMgPSBMLm1hcmtlcigKICAgICAgICAgICAgICAgIFs0MC43NjMzNjIsIC03My45ODEyMl0sCiAgICAgICAgICAgICAgICB7fQogICAgICAgICAgICApLmFkZFRvKG1hcF8xNjljNWVlN2U4MmU0OWY5YmYyYTZjZDZlZmUyODRiNCk7CiAgICAgICAgCiAgICAKICAgICAgICAgICAgdmFyIG1hcmtlcl9jOTY0MDY0YWQ2MTI0M2MwOGEwZTU2OGQ2YzNhOWZhNyA9IEwubWFya2VyKAogICAgICAgICAgICAgICAgWzQwLjc4NTYxMiwgLTczLjk3MDA2Ml0sCiAgICAgICAgICAgICAgICB7fQogICAgICAgICAgICApLmFkZFRvKG1hcF8xNjljNWVlN2U4MmU0OWY5YmYyYTZjZDZlZmUyODRiNCk7CiAgICAgICAgCiAgICAKICAgICAgICAgICAgdmFyIG1hcmtlcl81MjEwOGI0YjcxZDU0YjgxYWVlMDZjMGRjZmQzMDQ4MCA9IEwubWFya2VyKAogICAgICAgICAgICAgICAgWzQwLjc2NTQ2NywgLTczLjk3Njg4M10sCiAgICAgICAgICAgICAgICB7fQogICAgICAgICAgICApLmFkZFRvKG1hcF8xNjljNWVlN2U4MmU0OWY5YmYyYTZjZDZlZmUyODRiNCk7CiAgICAgICAgCiAgICAKICAgICAgICAgICAgdmFyIG1hcmtlcl8yNTMwZDgzYjVlMWY0ODRkYWVhZTkzOGFlZjlmYWZlNiA9IEwubWFya2VyKAogICAgICAgICAgICAgICAgWzQwLjc2ODg3NTEyMjA3MDMxLCAtNzMuOTYxNDE4MTUxODU1NDddLAogICAgICAgICAgICAgICAge30KICAgICAgICAgICAgKS5hZGRUbyhtYXBfMTY5YzVlZTdlODJlNDlmOWJmMmE2Y2Q2ZWZlMjg0YjQpOwogICAgICAgIAogICAgCiAgICAgICAgICAgIHZhciBtYXJrZXJfNzA0YTg2NzI0NTRhNDM2MTk0OWU4YjRiMmNlMmM1NWYgPSBMLm1hcmtlcigKICAgICAgICAgICAgICAgIFs0MC43NTU4MzUsIC03My45NzA1MzVdLAogICAgICAgICAgICAgICAge30KICAgICAgICAgICAgKS5hZGRUbyhtYXBfMTY5YzVlZTdlODJlNDlmOWJmMmE2Y2Q2ZWZlMjg0YjQpOwogICAgICAgIAogICAgCiAgICAgICAgICAgIHZhciBtYXJrZXJfMWM5OGIyNWViMTIzNGU4MzlkYTc5NGNjNmRlODAyYzcgPSBMLm1hcmtlcigKICAgICAgICAgICAgICAgIFs0MC43NDQ4MzYsIC03My45NzU4MTNdLAogICAgICAgICAgICAgICAge30KICAgICAgICAgICAgKS5hZGRUbyhtYXBfMTY5YzVlZTdlODJlNDlmOWJmMmE2Y2Q2ZWZlMjg0YjQpOwogICAgICAgIAogICAgCiAgICAgICAgICAgIHZhciBtYXJrZXJfODQ1MDRmODlhYmM0NDUzMThjZGM4OTgyZjFhMjVjOGIgPSBMLm1hcmtlcigKICAgICAgICAgICAgICAgIFs0MC43NjIzMzUsIC03My45NjU4NDhdLAogICAgICAgICAgICAgICAge30KICAgICAgICAgICAgKS5hZGRUbyhtYXBfMTY5YzVlZTdlODJlNDlmOWJmMmE2Y2Q2ZWZlMjg0YjQpOwogICAgICAgIAogICAgCiAgICAgICAgICAgIHZhciBtYXJrZXJfMDlkMjBkMGFhOGQxNDEwOWI2NTQ1ZWEwM2IxYTlmYmEgPSBMLm1hcmtlcigKICAgICAgICAgICAgICAgIFs0MC43MDc2MDUsIC03NC4wMTE1OV0sCiAgICAgICAgICAgICAgICB7fQogICAgICAgICAgICApLmFkZFRvKG1hcF8xNjljNWVlN2U4MmU0OWY5YmYyYTZjZDZlZmUyODRiNCk7CiAgICAgICAgCiAgICAKICAgICAgICAgICAgdmFyIG1hcmtlcl9mY2U5MGQwNDRjYjY0YWYwOGU5NmQ2Y2EwZTNkNzczOSA9IEwubWFya2VyKAogICAgICAgICAgICAgICAgWzQwLjc1NDY3NSwgLTczLjk4Mzg0XSwKICAgICAgICAgICAgICAgIHt9CiAgICAgICAgICAgICkuYWRkVG8obWFwXzE2OWM1ZWU3ZTgyZTQ5ZjliZjJhNmNkNmVmZTI4NGI0KTsKICAgICAgICAKICAgIAogICAgICAgICAgICB2YXIgbWFya2VyX2VkZWUxYzBkMmM3ODQyYTZhY2NkNjRjZjA1NTBlMDAwID0gTC5tYXJrZXIoCiAgICAgICAgICAgICAgICBbNDAuNzI0NTYzLCAtNzMuOTg3NTgxOTk5OTk5OTldLAogICAgICAgICAgICAgICAge30KICAgICAgICAgICAgKS5hZGRUbyhtYXBfMTY5YzVlZTdlODJlNDlmOWJmMmE2Y2Q2ZWZlMjg0YjQpOwogICAgICAgIAogICAgCiAgICAgICAgICAgIHZhciBtYXJrZXJfNzhiMTY0NzJlN2ZjNDc1ZTg5ZjI5ZTY0MzUyNWFlYzYgPSBMLm1hcmtlcigKICAgICAgICAgICAgICAgIFs0MC43NjA4NDcsIC03My45NzEyMTgwMDAwMDAwMV0sCiAgICAgICAgICAgICAgICB7fQogICAgICAgICAgICApLmFkZFRvKG1hcF8xNjljNWVlN2U4MmU0OWY5YmYyYTZjZDZlZmUyODRiNCk7CiAgICAgICAgCiAgICAKICAgICAgICAgICAgdmFyIG1hcmtlcl9hNWY3Mzg2NWM5MWQ0MTY5YmNlNmVkNDkwYjYwMDY4YyA9IEwubWFya2VyKAogICAgICAgICAgICAgICAgWzQwLjY2MDMxMywgLTczLjk4MDUzMl0sCiAgICAgICAgICAgICAgICB7fQogICAgICAgICAgICApLmFkZFRvKG1hcF8xNjljNWVlN2U4MmU0OWY5YmYyYTZjZDZlZmUyODRiNCk7CiAgICAgICAgCiAgICAKICAgICAgICAgICAgdmFyIG1hcmtlcl9lZDhlMWJhNjc3ZjA0MjI0OGQyMjVkODBiYjk4YmM0MSA9IEwubWFya2VyKAogICAgICAgICAgICAgICAgWzQwLjc2MDU1MSwgLTczLjkyMzAwNV0sCiAgICAgICAgICAgICAgICB7fQogICAgICAgICAgICApLmFkZFRvKG1hcF8xNjljNWVlN2U4MmU0OWY5YmYyYTZjZDZlZmUyODRiNCk7CiAgICAgICAgCiAgICAKICAgICAgICAgICAgdmFyIG1hcmtlcl9lZWY0NmFlYmM3OWU0YmM4ODhkNDZlZWY0YWJkNzA1MCA9IEwubWFya2VyKAogICAgICAgICAgICAgICAgWzQwLjc0NjA2MiwgLTczLjk3Nzc1OF0sCiAgICAgICAgICAgICAgICB7fQogICAgICAgICAgICApLmFkZFRvKG1hcF8xNjljNWVlN2U4MmU0OWY5YmYyYTZjZDZlZmUyODRiNCk7CiAgICAgICAgCiAgICAKICAgICAgICAgICAgdmFyIG1hcmtlcl82ZDA3MzExMmVhY2U0MWEwOTNiYTRlZTI5MjFjZDZhZCA9IEwubWFya2VyKAogICAgICAgICAgICAgICAgWzQwLjc2MjEzMSwgLTczLjk4NTk0Nl0sCiAgICAgICAgICAgICAgICB7fQogICAgICAgICAgICApLmFkZFRvKG1hcF8xNjljNWVlN2U4MmU0OWY5YmYyYTZjZDZlZmUyODRiNCk7CiAgICAgICAgCiAgICAKICAgICAgICAgICAgdmFyIG1hcmtlcl8xY2E0ZGYzNThmYTM0MDdhOWMxZDViNjg1MGIzMTAwMiA9IEwubWFya2VyKAogICAgICAgICAgICAgICAgWzQwLjc0MDU5Njk5OTk5OTk5NCwgLTczLjk5ODE2XSwKICAgICAgICAgICAgICAgIHt9CiAgICAgICAgICAgICkuYWRkVG8obWFwXzE2OWM1ZWU3ZTgyZTQ5ZjliZjJhNmNkNmVmZTI4NGI0KTsKICAgICAgICAKICAgIAogICAgICAgICAgICB2YXIgbWFya2VyXzNmNmM2MGZjYTM0NjQ5YmM5NjFhM2Q4YTM5OWU2MTRhID0gTC5tYXJrZXIoCiAgICAgICAgICAgICAgICBbNDAuNzYyODU5MDAwMDAwMDA2LCAtNzMuOTY3ODI4XSwKICAgICAgICAgICAgICAgIHt9CiAgICAgICAgICAgICkuYWRkVG8obWFwXzE2OWM1ZWU3ZTgyZTQ5ZjliZjJhNmNkNmVmZTI4NGI0KTsKICAgICAgICAKICAgIAogICAgICAgICAgICB2YXIgbWFya2VyX2I0OWYyODUwZjhlYjQ1YzBhZjNlZTQ4MTAzZjlkYWZjID0gTC5tYXJrZXIoCiAgICAgICAgICAgICAgICBbNDAuNzQ3MTksIC03My45ODY3MzNdLAogICAgICAgICAgICAgICAge30KICAgICAgICAgICAgKS5hZGRUbyhtYXBfMTY5YzVlZTdlODJlNDlmOWJmMmE2Y2Q2ZWZlMjg0YjQpOwogICAgICAgIAogICAgCiAgICAgICAgICAgIHZhciBtYXJrZXJfNTIzZjZhNTlmNWNlNGNiMzkyNDI5Njk4MjI3MjMwMTEgPSBMLm1hcmtlcigKICAgICAgICAgICAgICAgIFswLjAsIDAuMF0sCiAgICAgICAgICAgICAgICB7fQogICAgICAgICAgICApLmFkZFRvKG1hcF8xNjljNWVlN2U4MmU0OWY5YmYyYTZjZDZlZmUyODRiNCk7CiAgICAgICAgCiAgICAKICAgICAgICAgICAgdmFyIG1hcmtlcl80ZWM2MmVlODEzMjA0MjEwYWM0ZGM4MmYxZWMxY2Q4ZCA9IEwubWFya2VyKAogICAgICAgICAgICAgICAgWzQwLjcyOTA2MSwgLTc0LjAwMjUyN10sCiAgICAgICAgICAgICAgICB7fQogICAgICAgICAgICApLmFkZFRvKG1hcF8xNjljNWVlN2U4MmU0OWY5YmYyYTZjZDZlZmUyODRiNCk7CiAgICAgICAgCiAgICAKICAgICAgICAgICAgdmFyIG1hcmtlcl8xNTJjNGExNTFhNWM0YjViOTY2YWNkNWY0ODQ5YWVhMyA9IEwubWFya2VyKAogICAgICAgICAgICAgICAgWzQwLjc1NzM4NSwgLTczLjk2OTE5MTAwMDAwMDAxXSwKICAgICAgICAgICAgICAgIHt9CiAgICAgICAgICAgICkuYWRkVG8obWFwXzE2OWM1ZWU3ZTgyZTQ5ZjliZjJhNmNkNmVmZTI4NGI0KTsKICAgICAgICAKICAgIAogICAgICAgICAgICB2YXIgbWFya2VyX2JlZmExMTVmY2QwNTQ0Y2M5ZjQ5Njc2MzVhZjBiZDliID0gTC5tYXJrZXIoCiAgICAgICAgICAgICAgICBbNDAuNzQyMjM3LCAtNzMuOTc1MDE3MDAwMDAwMDFdLAogICAgICAgICAgICAgICAge30KICAgICAgICAgICAgKS5hZGRUbyhtYXBfMTY5YzVlZTdlODJlNDlmOWJmMmE2Y2Q2ZWZlMjg0YjQpOwogICAgICAgIAogICAgCiAgICAgICAgICAgIHZhciBtYXJrZXJfMjg2NzU4NzY0NGUyNDU1MTg5NTg0Y2EzMjk1NTllNTAgPSBMLm1hcmtlcigKICAgICAgICAgICAgICAgIFs0MC43NDg4NzQsIC03My45NzgwNTJdLAogICAgICAgICAgICAgICAge30KICAgICAgICAgICAgKS5hZGRUbyhtYXBfMTY5YzVlZTdlODJlNDlmOWJmMmE2Y2Q2ZWZlMjg0YjQpOwogICAgICAgIAo8L3NjcmlwdD4=\" style=\"position:absolute;width:100%;height:100%;left:0;top:0;border:none !important;\" allowfullscreen webkitallowfullscreen mozallowfullscreen></iframe></div></div>"
      ],
      "text/plain": [
       "<folium.folium.Map at 0x2762e2a5438>"
      ]
     },
     "execution_count": 56,
     "metadata": {},
     "output_type": "execute_result"
    }
   ],
   "source": [
    "m"
   ]
  },
  {
   "cell_type": "code",
   "execution_count": 39,
   "metadata": {},
   "outputs": [
    {
     "data": {
      "text/plain": [
       "array([['2011-08-31 07:05:00 UTC', -73.98151700000001, 40.741165,\n",
       "        -73.977287, 40.754762, 2],\n",
       "       ['2013-09-24 16:19:02 UTC', -74.002, 40.750713, -73.964212,\n",
       "        40.773633000000004, 2],\n",
       "       ['2014-09-09 07:26:00 UTC', -73.99765, 40.683425,\n",
       "        -73.95853699999999, 40.760137, 1],\n",
       "       ...,\n",
       "       ['2011-04-02 22:04:24 UTC', -73.970505, 40.752325, -73.960537,\n",
       "        40.797342, 1],\n",
       "       ['2011-10-26 05:57:51 UTC', -73.980901, 40.764629, -73.870605,\n",
       "        40.773963, 1],\n",
       "       ['2014-12-12 11:33:00 UTC', -73.96972199999999, 40.797668,\n",
       "        -73.970885, 40.783313, 1]], dtype=object)"
      ]
     },
     "execution_count": 39,
     "metadata": {},
     "output_type": "execute_result"
    }
   ],
   "source": [
    "X_taxi = data_sample.values[:,2:]\n",
    "Y_taxi = data_sample.values[:,1]"
   ]
  },
  {
   "cell_type": "code",
   "execution_count": null,
   "metadata": {},
   "outputs": [],
   "source": [
    "plt.plot(X_taxi[:,])"
   ]
  },
  {
   "cell_type": "code",
   "execution_count": 29,
   "metadata": {},
   "outputs": [
    {
     "data": {
      "text/html": [
       "<div>\n",
       "<style scoped>\n",
       "    .dataframe tbody tr th:only-of-type {\n",
       "        vertical-align: middle;\n",
       "    }\n",
       "\n",
       "    .dataframe tbody tr th {\n",
       "        vertical-align: top;\n",
       "    }\n",
       "\n",
       "    .dataframe thead th {\n",
       "        text-align: right;\n",
       "    }\n",
       "</style>\n",
       "<table border=\"1\" class=\"dataframe\">\n",
       "  <thead>\n",
       "    <tr style=\"text-align: right;\">\n",
       "      <th></th>\n",
       "      <th>key</th>\n",
       "      <th>fare_amount</th>\n",
       "      <th>pickup_datetime</th>\n",
       "      <th>pickup_longitude</th>\n",
       "      <th>pickup_latitude</th>\n",
       "      <th>dropoff_longitude</th>\n",
       "      <th>dropoff_latitude</th>\n",
       "      <th>passenger_count</th>\n",
       "    </tr>\n",
       "  </thead>\n",
       "  <tbody>\n",
       "    <tr>\n",
       "      <td>0</td>\n",
       "      <td>2011-08-31 07:05:00.00000067</td>\n",
       "      <td>6.1</td>\n",
       "      <td>2011-08-31 07:05:00 UTC</td>\n",
       "      <td>-73.981517</td>\n",
       "      <td>40.741165</td>\n",
       "      <td>-73.977287</td>\n",
       "      <td>40.754762</td>\n",
       "      <td>2</td>\n",
       "    </tr>\n",
       "    <tr>\n",
       "      <td>1</td>\n",
       "      <td>2013-09-24 16:19:02.0000006</td>\n",
       "      <td>17.0</td>\n",
       "      <td>2013-09-24 16:19:02 UTC</td>\n",
       "      <td>-74.002000</td>\n",
       "      <td>40.750713</td>\n",
       "      <td>-73.964212</td>\n",
       "      <td>40.773633</td>\n",
       "      <td>2</td>\n",
       "    </tr>\n",
       "    <tr>\n",
       "      <td>2</td>\n",
       "      <td>2014-09-09 07:26:00.000000153</td>\n",
       "      <td>24.5</td>\n",
       "      <td>2014-09-09 07:26:00 UTC</td>\n",
       "      <td>-73.997650</td>\n",
       "      <td>40.683425</td>\n",
       "      <td>-73.958537</td>\n",
       "      <td>40.760137</td>\n",
       "      <td>1</td>\n",
       "    </tr>\n",
       "    <tr>\n",
       "      <td>3</td>\n",
       "      <td>2009-10-05 14:51:33.0000001</td>\n",
       "      <td>5.7</td>\n",
       "      <td>2009-10-05 14:51:33 UTC</td>\n",
       "      <td>-74.006147</td>\n",
       "      <td>40.714288</td>\n",
       "      <td>-74.015233</td>\n",
       "      <td>40.711181</td>\n",
       "      <td>1</td>\n",
       "    </tr>\n",
       "    <tr>\n",
       "      <td>4</td>\n",
       "      <td>2010-05-27 22:43:00.00000097</td>\n",
       "      <td>6.5</td>\n",
       "      <td>2010-05-27 22:43:00 UTC</td>\n",
       "      <td>-73.976137</td>\n",
       "      <td>40.755605</td>\n",
       "      <td>-73.990392</td>\n",
       "      <td>40.750540</td>\n",
       "      <td>1</td>\n",
       "    </tr>\n",
       "  </tbody>\n",
       "</table>\n",
       "</div>"
      ],
      "text/plain": [
       "                             key  fare_amount          pickup_datetime  \\\n",
       "0   2011-08-31 07:05:00.00000067          6.1  2011-08-31 07:05:00 UTC   \n",
       "1    2013-09-24 16:19:02.0000006         17.0  2013-09-24 16:19:02 UTC   \n",
       "2  2014-09-09 07:26:00.000000153         24.5  2014-09-09 07:26:00 UTC   \n",
       "3    2009-10-05 14:51:33.0000001          5.7  2009-10-05 14:51:33 UTC   \n",
       "4   2010-05-27 22:43:00.00000097          6.5  2010-05-27 22:43:00 UTC   \n",
       "\n",
       "   pickup_longitude  pickup_latitude  dropoff_longitude  dropoff_latitude  \\\n",
       "0        -73.981517        40.741165         -73.977287         40.754762   \n",
       "1        -74.002000        40.750713         -73.964212         40.773633   \n",
       "2        -73.997650        40.683425         -73.958537         40.760137   \n",
       "3        -74.006147        40.714288         -74.015233         40.711181   \n",
       "4        -73.976137        40.755605         -73.990392         40.750540   \n",
       "\n",
       "   passenger_count  \n",
       "0                2  \n",
       "1                2  \n",
       "2                1  \n",
       "3                1  \n",
       "4                1  "
      ]
     },
     "execution_count": 29,
     "metadata": {},
     "output_type": "execute_result"
    }
   ],
   "source": [
    "data_sample.head()"
   ]
  },
  {
   "cell_type": "code",
   "execution_count": 40,
   "metadata": {},
   "outputs": [],
   "source": [
    "X_taxi_train,Y_taxi_train,X_taxi_train,Y_taxi_train = train_test_split(\n",
    "        X_taxi,Y_taxi,test_size=0.2,random_state = 0)"
   ]
  },
  {
   "cell_type": "code",
   "execution_count": null,
   "metadata": {},
   "outputs": [],
   "source": []
  }
 ],
 "metadata": {
  "kernelspec": {
   "display_name": "Python 3",
   "language": "python",
   "name": "python3"
  },
  "language_info": {
   "codemirror_mode": {
    "name": "ipython",
    "version": 3
   },
   "file_extension": ".py",
   "mimetype": "text/x-python",
   "name": "python",
   "nbconvert_exporter": "python",
   "pygments_lexer": "ipython3",
   "version": "3.7.1"
  }
 },
 "nbformat": 4,
 "nbformat_minor": 2
}
